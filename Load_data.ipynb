{
 "cells": [
  {
   "cell_type": "code",
   "execution_count": 0,
   "metadata": {
    "application/vnd.databricks.v1+cell": {
     "cellMetadata": {
      "byteLimit": 2048000,
      "rowLimit": 10000
     },
     "inputWidgets": {},
     "nuid": "a361543a-39b1-42a1-ba48-d2960124bf53",
     "showTitle": false,
     "title": ""
    }
   },
   "outputs": [
    {
     "output_type": "execute_result",
     "data": {
      "text/plain": [
       "DataFrame[]"
      ]
     },
     "execution_count": 1,
     "metadata": {},
     "output_type": "execute_result"
    }
   ],
   "source": [
    "# Load payments\n",
    "if spark._jsparkSession.catalog().tableExists('default', 'staging_payments'):\n",
    "    spark.sql(\"DROP TABLE IF EXISTS default.staging_payments\")\n",
    "\n",
    "spark.sql(\"\"\"\n",
    "    CREATE TABLE default.staging_payments\n",
    "    USING DELTA\n",
    "    LOCATION '/delta/payments'\n",
    "\"\"\")\n"
   ]
  },
  {
   "cell_type": "code",
   "execution_count": 0,
   "metadata": {
    "application/vnd.databricks.v1+cell": {
     "cellMetadata": {
      "byteLimit": 2048000,
      "rowLimit": 10000
     },
     "inputWidgets": {},
     "nuid": "5191ebed-7f7c-4ac8-a412-a4e312d04691",
     "showTitle": false,
     "title": ""
    }
   },
   "outputs": [
    {
     "output_type": "execute_result",
     "data": {
      "text/plain": [
       "DataFrame[]"
      ]
     },
     "execution_count": 2,
     "metadata": {},
     "output_type": "execute_result"
    }
   ],
   "source": [
    "# Load riders\n",
    "if spark._jsparkSession.catalog().tableExists('default', 'staging_riders'):\n",
    "    spark.sql(\"DROP TABLE IF EXISTS default.staging_riders\")\n",
    "\n",
    "spark.sql(\"\"\"\n",
    "    CREATE TABLE default.staging_riders\n",
    "    USING DELTA\n",
    "    LOCATION '/delta/riders'\n",
    "\"\"\")\n"
   ]
  },
  {
   "cell_type": "code",
   "execution_count": 0,
   "metadata": {
    "application/vnd.databricks.v1+cell": {
     "cellMetadata": {
      "byteLimit": 2048000,
      "rowLimit": 10000
     },
     "inputWidgets": {},
     "nuid": "2c34d74b-021b-4c3d-8cef-24f865232e92",
     "showTitle": false,
     "title": ""
    }
   },
   "outputs": [
    {
     "output_type": "execute_result",
     "data": {
      "text/plain": [
       "DataFrame[]"
      ]
     },
     "execution_count": 3,
     "metadata": {},
     "output_type": "execute_result"
    }
   ],
   "source": [
    "# Load stations\n",
    "if spark._jsparkSession.catalog().tableExists('default', 'staging_stations'):\n",
    "    spark.sql(\"DROP TABLE IF EXISTS default.staging_stations\")\n",
    "\n",
    "spark.sql(\"\"\"\n",
    "    CREATE TABLE default.staging_stations\n",
    "    USING DELTA\n",
    "    LOCATION '/delta/stations'\n",
    "\"\"\")"
   ]
  },
  {
   "cell_type": "code",
   "execution_count": 0,
   "metadata": {
    "application/vnd.databricks.v1+cell": {
     "cellMetadata": {
      "byteLimit": 2048000,
      "rowLimit": 10000
     },
     "inputWidgets": {},
     "nuid": "18c550c0-4464-463c-8421-fa123e87978c",
     "showTitle": false,
     "title": ""
    }
   },
   "outputs": [
    {
     "output_type": "execute_result",
     "data": {
      "text/plain": [
       "DataFrame[]"
      ]
     },
     "execution_count": 4,
     "metadata": {},
     "output_type": "execute_result"
    }
   ],
   "source": [
    "# Load trips\n",
    "if spark._jsparkSession.catalog().tableExists('default', 'staging_trips'):\n",
    "    spark.sql(\"DROP TABLE IF EXISTS default.staging_trips\")\n",
    "\n",
    "spark.sql(\"\"\"\n",
    "    CREATE TABLE default.staging_trips\n",
    "    USING DELTA\n",
    "    LOCATION '/delta/trips'\n",
    "\"\"\")"
   ]
  }
 ],
 "metadata": {
  "application/vnd.databricks.v1+notebook": {
   "dashboards": [],
   "environmentMetadata": null,
   "language": "python",
   "notebookMetadata": {
    "pythonIndentUnit": 4
   },
   "notebookName": "Load_data",
   "widgets": {}
  }
 },
 "nbformat": 4,
 "nbformat_minor": 0
}
