{
 "cells": [
  {
   "cell_type": "code",
   "execution_count": 0,
   "metadata": {
    "application/vnd.databricks.v1+cell": {
     "cellMetadata": {
      "byteLimit": 2048000,
      "rowLimit": 10000
     },
     "inputWidgets": {},
     "nuid": "c54f0f50-2151-497b-b940-ebcf9ccc2547",
     "showTitle": false,
     "title": ""
    }
   },
   "outputs": [],
   "source": [
    "from pyspark.sql.functions import *\n",
    "from pyspark.sql.types import TimestampType\n"
   ]
  },
  {
   "cell_type": "markdown",
   "metadata": {
    "application/vnd.databricks.v1+cell": {
     "cellMetadata": {},
     "inputWidgets": {},
     "nuid": "efba4659-315c-4d66-b56f-3f5c4a7ec2e1",
     "showTitle": false,
     "title": ""
    }
   },
   "source": [
    "<h2>Load </h2>"
   ]
  },
  {
   "cell_type": "code",
   "execution_count": 0,
   "metadata": {
    "application/vnd.databricks.v1+cell": {
     "cellMetadata": {
      "byteLimit": 2048000,
      "rowLimit": 10000
     },
     "inputWidgets": {},
     "nuid": "6bb5e92b-7eda-461b-9995-baf415c71a79",
     "showTitle": false,
     "title": ""
    }
   },
   "outputs": [],
   "source": [
    "payments = spark.table(\"default.staging_payments\")"
   ]
  },
  {
   "cell_type": "code",
   "execution_count": 0,
   "metadata": {
    "application/vnd.databricks.v1+cell": {
     "cellMetadata": {
      "byteLimit": 2048000,
      "rowLimit": 10000
     },
     "inputWidgets": {},
     "nuid": "7205dbbd-7d5e-428d-9367-ac50f00651f1",
     "showTitle": false,
     "title": ""
    }
   },
   "outputs": [
    {
     "output_type": "display_data",
     "data": {
      "text/html": [
       "<style scoped>\n",
       "  .table-result-container {\n",
       "    max-height: 300px;\n",
       "    overflow: auto;\n",
       "  }\n",
       "  table, th, td {\n",
       "    border: 1px solid black;\n",
       "    border-collapse: collapse;\n",
       "  }\n",
       "  th, td {\n",
       "    padding: 5px;\n",
       "  }\n",
       "  th {\n",
       "    text-align: left;\n",
       "  }\n",
       "</style><div class='table-result-container'><table class='table-result'><thead style='background-color: white'><tr><th>payment_id</th><th>date</th><th>amount</th><th>rider_id</th></tr></thead><tbody><tr><td>1574726</td><td>2021-02-01</td><td>9.0</td><td>61831</td></tr><tr><td>1574727</td><td>2021-03-01</td><td>9.0</td><td>61831</td></tr><tr><td>1574728</td><td>2021-04-01</td><td>9.0</td><td>61831</td></tr><tr><td>1574729</td><td>2021-05-01</td><td>9.0</td><td>61831</td></tr><tr><td>1574730</td><td>2021-06-01</td><td>9.0</td><td>61831</td></tr><tr><td>1574731</td><td>2021-07-01</td><td>9.0</td><td>61831</td></tr><tr><td>1574732</td><td>2021-08-01</td><td>9.0</td><td>61831</td></tr><tr><td>1574733</td><td>2021-09-01</td><td>9.0</td><td>61831</td></tr><tr><td>1574734</td><td>2021-10-01</td><td>9.0</td><td>61831</td></tr><tr><td>1574735</td><td>2021-11-01</td><td>9.0</td><td>61831</td></tr></tbody></table></div>"
      ]
     },
     "metadata": {
      "application/vnd.databricks.v1+output": {
       "addedWidgets": {},
       "aggData": [],
       "aggError": "",
       "aggOverflow": false,
       "aggSchema": [],
       "aggSeriesLimitReached": false,
       "aggType": "",
       "arguments": {},
       "columnCustomDisplayInfos": {},
       "data": [
        [
         1574726,
         "2021-02-01",
         9.0,
         61831
        ],
        [
         1574727,
         "2021-03-01",
         9.0,
         61831
        ],
        [
         1574728,
         "2021-04-01",
         9.0,
         61831
        ],
        [
         1574729,
         "2021-05-01",
         9.0,
         61831
        ],
        [
         1574730,
         "2021-06-01",
         9.0,
         61831
        ],
        [
         1574731,
         "2021-07-01",
         9.0,
         61831
        ],
        [
         1574732,
         "2021-08-01",
         9.0,
         61831
        ],
        [
         1574733,
         "2021-09-01",
         9.0,
         61831
        ],
        [
         1574734,
         "2021-10-01",
         9.0,
         61831
        ],
        [
         1574735,
         "2021-11-01",
         9.0,
         61831
        ]
       ],
       "datasetInfos": [],
       "dbfsResultPath": null,
       "isJsonSchema": true,
       "metadata": {},
       "overflow": false,
       "plotOptions": {
        "customPlotOptions": {},
        "displayType": "table",
        "pivotAggregation": null,
        "pivotColumns": null,
        "xColumns": null,
        "yColumns": null
       },
       "removedWidgets": [],
       "schema": [
        {
         "metadata": "{}",
         "name": "payment_id",
         "type": "\"integer\""
        },
        {
         "metadata": "{\"__detected_date_formats\":\"yyyy-M-d\"}",
         "name": "date",
         "type": "\"date\""
        },
        {
         "metadata": "{}",
         "name": "amount",
         "type": "\"double\""
        },
        {
         "metadata": "{}",
         "name": "rider_id",
         "type": "\"integer\""
        }
       ],
       "type": "table"
      }
     },
     "output_type": "display_data"
    }
   ],
   "source": [
    "display(payments.limit(10))"
   ]
  },
  {
   "cell_type": "code",
   "execution_count": 0,
   "metadata": {
    "application/vnd.databricks.v1+cell": {
     "cellMetadata": {
      "byteLimit": 2048000,
      "rowLimit": 10000
     },
     "inputWidgets": {},
     "nuid": "51a76e5d-3e48-4ff4-abc6-9da07d18696c",
     "showTitle": false,
     "title": ""
    }
   },
   "outputs": [],
   "source": [
    "# Write data to fact_payments\n",
    "spark.sql(\"drop table if exists default.fact_payments\")\n",
    "payments.dropDuplicates([\"payment_id\"]).write.format(\"delta\").mode(\"overwrite\").saveAsTable(\"default.fact_payments\")"
   ]
  },
  {
   "cell_type": "markdown",
   "metadata": {
    "application/vnd.databricks.v1+cell": {
     "cellMetadata": {},
     "inputWidgets": {},
     "nuid": "61ef4ce6-1d1c-45e2-85f7-31bf9c6955a8",
     "showTitle": false,
     "title": ""
    }
   },
   "source": [
    "<h3> Load "
   ]
  },
  {
   "cell_type": "code",
   "execution_count": 0,
   "metadata": {
    "application/vnd.databricks.v1+cell": {
     "cellMetadata": {
      "byteLimit": 2048000,
      "rowLimit": 10000
     },
     "inputWidgets": {},
     "nuid": "0621cbc2-81f4-43b0-b487-482e5e835cba",
     "showTitle": false,
     "title": ""
    }
   },
   "outputs": [],
   "source": [
    "riders = spark.table(\"default.staging_riders\")"
   ]
  },
  {
   "cell_type": "code",
   "execution_count": 0,
   "metadata": {
    "application/vnd.databricks.v1+cell": {
     "cellMetadata": {
      "byteLimit": 2048000,
      "rowLimit": 10000
     },
     "inputWidgets": {},
     "nuid": "397d3e1e-19f2-4052-a6a8-37f85420718a",
     "showTitle": false,
     "title": ""
    }
   },
   "outputs": [
    {
     "output_type": "display_data",
     "data": {
      "text/html": [
       "<style scoped>\n",
       "  .table-result-container {\n",
       "    max-height: 300px;\n",
       "    overflow: auto;\n",
       "  }\n",
       "  table, th, td {\n",
       "    border: 1px solid black;\n",
       "    border-collapse: collapse;\n",
       "  }\n",
       "  th, td {\n",
       "    padding: 5px;\n",
       "  }\n",
       "  th {\n",
       "    text-align: left;\n",
       "  }\n",
       "</style><div class='table-result-container'><table class='table-result'><thead style='background-color: white'><tr><th>rider_id</th><th>first_name</th><th>last_name</th><th>address</th><th>birthday</th><th>account_start_date</th><th>account_end_date</th><th>is_member</th></tr></thead><tbody><tr><td>57257</td><td>Mark</td><td>Mcfarland</td><td>9928 Hunter Ranch</td><td>1982-02-01</td><td>2020-12-05</td><td>null</td><td>false</td></tr><tr><td>57258</td><td>Mark</td><td>Davis</td><td>20036 Barrett Summit Apt. 714</td><td>1963-07-28</td><td>2017-07-12</td><td>null</td><td>true</td></tr><tr><td>57259</td><td>Bryan</td><td>Manning</td><td>089 Sarah Square</td><td>1984-11-05</td><td>2018-08-10</td><td>null</td><td>true</td></tr><tr><td>57260</td><td>Michele</td><td>Rowe</td><td>3157 Nicole Ferry Apt. 826</td><td>1997-09-21</td><td>2016-06-03</td><td>null</td><td>true</td></tr><tr><td>57261</td><td>John</td><td>Mckenzie</td><td>312 Jessica Wells</td><td>2002-10-13</td><td>2016-02-01</td><td>2018-07-01</td><td>true</td></tr><tr><td>57262</td><td>Tami</td><td>Rivera</td><td>910 Lopez Pass Apt. 426</td><td>2001-06-29</td><td>2020-11-12</td><td>null</td><td>true</td></tr><tr><td>57263</td><td>Joseph</td><td>Hodge</td><td>411 Mccoy Haven</td><td>1993-04-30</td><td>2020-05-29</td><td>null</td><td>false</td></tr><tr><td>57264</td><td>Lauren</td><td>Brown</td><td>667 Rodriguez Ramp</td><td>2002-10-20</td><td>2020-05-10</td><td>null</td><td>false</td></tr><tr><td>57265</td><td>Stephanie</td><td>Reed</td><td>90789 Fowler Circle</td><td>1993-03-20</td><td>2018-09-05</td><td>2019-09-01</td><td>true</td></tr><tr><td>57266</td><td>Brittney</td><td>Lamb</td><td>55635 Valerie Falls</td><td>1993-12-09</td><td>2020-10-10</td><td>null</td><td>true</td></tr></tbody></table></div>"
      ]
     },
     "metadata": {
      "application/vnd.databricks.v1+output": {
       "addedWidgets": {},
       "aggData": [],
       "aggError": "",
       "aggOverflow": false,
       "aggSchema": [],
       "aggSeriesLimitReached": false,
       "aggType": "",
       "arguments": {},
       "columnCustomDisplayInfos": {},
       "data": [
        [
         57257,
         "Mark",
         "Mcfarland",
         "9928 Hunter Ranch",
         "1982-02-01",
         "2020-12-05",
         null,
         false
        ],
        [
         57258,
         "Mark",
         "Davis",
         "20036 Barrett Summit Apt. 714",
         "1963-07-28",
         "2017-07-12",
         null,
         true
        ],
        [
         57259,
         "Bryan",
         "Manning",
         "089 Sarah Square",
         "1984-11-05",
         "2018-08-10",
         null,
         true
        ],
        [
         57260,
         "Michele",
         "Rowe",
         "3157 Nicole Ferry Apt. 826",
         "1997-09-21",
         "2016-06-03",
         null,
         true
        ],
        [
         57261,
         "John",
         "Mckenzie",
         "312 Jessica Wells",
         "2002-10-13",
         "2016-02-01",
         "2018-07-01",
         true
        ],
        [
         57262,
         "Tami",
         "Rivera",
         "910 Lopez Pass Apt. 426",
         "2001-06-29",
         "2020-11-12",
         null,
         true
        ],
        [
         57263,
         "Joseph",
         "Hodge",
         "411 Mccoy Haven",
         "1993-04-30",
         "2020-05-29",
         null,
         false
        ],
        [
         57264,
         "Lauren",
         "Brown",
         "667 Rodriguez Ramp",
         "2002-10-20",
         "2020-05-10",
         null,
         false
        ],
        [
         57265,
         "Stephanie",
         "Reed",
         "90789 Fowler Circle",
         "1993-03-20",
         "2018-09-05",
         "2019-09-01",
         true
        ],
        [
         57266,
         "Brittney",
         "Lamb",
         "55635 Valerie Falls",
         "1993-12-09",
         "2020-10-10",
         null,
         true
        ]
       ],
       "datasetInfos": [],
       "dbfsResultPath": null,
       "isJsonSchema": true,
       "metadata": {},
       "overflow": false,
       "plotOptions": {
        "customPlotOptions": {},
        "displayType": "table",
        "pivotAggregation": null,
        "pivotColumns": null,
        "xColumns": null,
        "yColumns": null
       },
       "removedWidgets": [],
       "schema": [
        {
         "metadata": "{}",
         "name": "rider_id",
         "type": "\"integer\""
        },
        {
         "metadata": "{}",
         "name": "first_name",
         "type": "\"string\""
        },
        {
         "metadata": "{}",
         "name": "last_name",
         "type": "\"string\""
        },
        {
         "metadata": "{}",
         "name": "address",
         "type": "\"string\""
        },
        {
         "metadata": "{\"__detected_date_formats\":\"yyyy-M-d\"}",
         "name": "birthday",
         "type": "\"date\""
        },
        {
         "metadata": "{\"__detected_date_formats\":\"yyyy-M-d\"}",
         "name": "account_start_date",
         "type": "\"date\""
        },
        {
         "metadata": "{\"__detected_date_formats\":\"yyyy-M-d\"}",
         "name": "account_end_date",
         "type": "\"date\""
        },
        {
         "metadata": "{}",
         "name": "is_member",
         "type": "\"boolean\""
        }
       ],
       "type": "table"
      }
     },
     "output_type": "display_data"
    }
   ],
   "source": [
    "display(riders.limit(10))"
   ]
  },
  {
   "cell_type": "code",
   "execution_count": 0,
   "metadata": {
    "application/vnd.databricks.v1+cell": {
     "cellMetadata": {
      "byteLimit": 2048000,
      "rowLimit": 10000
     },
     "inputWidgets": {},
     "nuid": "1dd08ef2-aa4e-428b-95e0-e5e5788f819d",
     "showTitle": false,
     "title": ""
    }
   },
   "outputs": [],
   "source": [
    "# Write data to dim_rider\n",
    "spark.sql(\"drop table if exists default.dim_rider\")\n",
    "riders.dropDuplicates([\"rider_id\"]).write.format(\"delta\").mode(\"overwrite\").saveAsTable(\"default.dim_rider\")"
   ]
  },
  {
   "cell_type": "markdown",
   "metadata": {
    "application/vnd.databricks.v1+cell": {
     "cellMetadata": {},
     "inputWidgets": {},
     "nuid": "2838cb66-9350-4078-9c44-8f795d383c26",
     "showTitle": false,
     "title": ""
    }
   },
   "source": [
    "<h3>Load  </h3>"
   ]
  },
  {
   "cell_type": "code",
   "execution_count": 0,
   "metadata": {
    "application/vnd.databricks.v1+cell": {
     "cellMetadata": {
      "byteLimit": 2048000,
      "rowLimit": 10000
     },
     "inputWidgets": {},
     "nuid": "244e9f98-491a-4c60-9cb8-aab09749907b",
     "showTitle": false,
     "title": ""
    }
   },
   "outputs": [],
   "source": [
    "stations = spark.table(\"default.staging_stations\")\n"
   ]
  },
  {
   "cell_type": "code",
   "execution_count": 0,
   "metadata": {
    "application/vnd.databricks.v1+cell": {
     "cellMetadata": {
      "byteLimit": 2048000,
      "rowLimit": 10000
     },
     "inputWidgets": {},
     "nuid": "c81afff6-fc62-459d-a7a0-17a0c7d59c1f",
     "showTitle": false,
     "title": ""
    }
   },
   "outputs": [
    {
     "output_type": "display_data",
     "data": {
      "text/html": [
       "<style scoped>\n",
       "  .table-result-container {\n",
       "    max-height: 300px;\n",
       "    overflow: auto;\n",
       "  }\n",
       "  table, th, td {\n",
       "    border: 1px solid black;\n",
       "    border-collapse: collapse;\n",
       "  }\n",
       "  th, td {\n",
       "    padding: 5px;\n",
       "  }\n",
       "  th {\n",
       "    text-align: left;\n",
       "  }\n",
       "</style><div class='table-result-container'><table class='table-result'><thead style='background-color: white'><tr><th>station_id</th><th>name</th><th>latitude</th><th>longitude</th></tr></thead><tbody><tr><td>525</td><td>Glenwood Ave & Touhy Ave</td><td>42.012701</td><td>-87.66605799999999</td></tr><tr><td>KA1503000012</td><td>Clark St & Lake St</td><td>41.88579466666667</td><td>-87.63110066666668</td></tr><tr><td>637</td><td>Wood St & Chicago Ave</td><td>41.895634</td><td>-87.672069</td></tr><tr><td>13216</td><td>State St & 33rd St</td><td>41.8347335</td><td>-87.6258275</td></tr><tr><td>18003</td><td>Fairbanks St & Superior St</td><td>41.89580766666667</td><td>-87.62025316666669</td></tr><tr><td>KP1705001026</td><td>LaSalle Dr & Huron St</td><td>41.894877</td><td>-87.632326</td></tr><tr><td>13253</td><td>Lincoln Ave & Waveland Ave</td><td>41.948797</td><td>-87.675278</td></tr><tr><td>KA1503000044</td><td>Rush St & Hubbard St</td><td>41.890173</td><td>-87.62618499999999</td></tr><tr><td>KA1504000140</td><td>Winchester Ave & Elston Ave</td><td>41.92403733333333</td><td>-87.67641483333334</td></tr></tbody></table></div>"
      ]
     },
     "metadata": {
      "application/vnd.databricks.v1+output": {
       "addedWidgets": {},
       "aggData": [],
       "aggError": "",
       "aggOverflow": false,
       "aggSchema": [],
       "aggSeriesLimitReached": false,
       "aggType": "",
       "arguments": {},
       "columnCustomDisplayInfos": {},
       "data": [
        [
         "525",
         "Glenwood Ave & Touhy Ave",
         42.012701,
         -87.66605799999999
        ],
        [
         "KA1503000012",
         "Clark St & Lake St",
         41.88579466666667,
         -87.63110066666668
        ],
        [
         "637",
         "Wood St & Chicago Ave",
         41.895634,
         -87.672069
        ],
        [
         "13216",
         "State St & 33rd St",
         41.8347335,
         -87.6258275
        ],
        [
         "18003",
         "Fairbanks St & Superior St",
         41.89580766666667,
         -87.62025316666669
        ],
        [
         "KP1705001026",
         "LaSalle Dr & Huron St",
         41.894877,
         -87.632326
        ],
        [
         "13253",
         "Lincoln Ave & Waveland Ave",
         41.948797,
         -87.675278
        ],
        [
         "KA1503000044",
         "Rush St & Hubbard St",
         41.890173,
         -87.62618499999999
        ],
        [
         "KA1504000140",
         "Winchester Ave & Elston Ave",
         41.92403733333333,
         -87.67641483333334
        ]
       ],
       "datasetInfos": [],
       "dbfsResultPath": null,
       "isJsonSchema": true,
       "metadata": {},
       "overflow": false,
       "plotOptions": {
        "customPlotOptions": {},
        "displayType": "table",
        "pivotAggregation": null,
        "pivotColumns": null,
        "xColumns": null,
        "yColumns": null
       },
       "removedWidgets": [],
       "schema": [
        {
         "metadata": "{}",
         "name": "station_id",
         "type": "\"string\""
        },
        {
         "metadata": "{}",
         "name": "name",
         "type": "\"string\""
        },
        {
         "metadata": "{}",
         "name": "latitude",
         "type": "\"double\""
        },
        {
         "metadata": "{}",
         "name": "longitude",
         "type": "\"double\""
        }
       ],
       "type": "table"
      }
     },
     "output_type": "display_data"
    }
   ],
   "source": [
    "display(stations.limit(9))"
   ]
  },
  {
   "cell_type": "code",
   "execution_count": 0,
   "metadata": {
    "application/vnd.databricks.v1+cell": {
     "cellMetadata": {
      "byteLimit": 2048000,
      "rowLimit": 10000
     },
     "inputWidgets": {},
     "nuid": "a3de69a4-deb9-4fa4-a43a-e94a3b9334aa",
     "showTitle": false,
     "title": ""
    }
   },
   "outputs": [],
   "source": [
    "# Write data to dim_station\n",
    "spark.sql(\"drop table if exists default.dim_station\")\n",
    "stations.dropDuplicates([\"station_id\"]).write.format(\"delta\").mode(\"overwrite\").saveAsTable(\"default.dim_station\")"
   ]
  },
  {
   "cell_type": "markdown",
   "metadata": {
    "application/vnd.databricks.v1+cell": {
     "cellMetadata": {},
     "inputWidgets": {},
     "nuid": "7b7fcdf2-635a-4fdc-a938-33d9a0589092",
     "showTitle": false,
     "title": ""
    }
   },
   "source": [
    "<h3>Load </h3>"
   ]
  },
  {
   "cell_type": "code",
   "execution_count": 0,
   "metadata": {
    "application/vnd.databricks.v1+cell": {
     "cellMetadata": {
      "byteLimit": 2048000,
      "rowLimit": 10000
     },
     "inputWidgets": {},
     "nuid": "7e4b72b6-826a-4276-87e2-868fc732aa44",
     "showTitle": false,
     "title": ""
    }
   },
   "outputs": [],
   "source": [
    "trips = spark.table(\"default.staging_trips\")\n"
   ]
  },
  {
   "cell_type": "code",
   "execution_count": 0,
   "metadata": {
    "application/vnd.databricks.v1+cell": {
     "cellMetadata": {
      "byteLimit": 2048000,
      "rowLimit": 10000
     },
     "inputWidgets": {},
     "nuid": "62067126-dbae-4287-9158-bab1b8bd654b",
     "showTitle": false,
     "title": ""
    }
   },
   "outputs": [
    {
     "output_type": "display_data",
     "data": {
      "text/html": [
       "<style scoped>\n",
       "  .table-result-container {\n",
       "    max-height: 300px;\n",
       "    overflow: auto;\n",
       "  }\n",
       "  table, th, td {\n",
       "    border: 1px solid black;\n",
       "    border-collapse: collapse;\n",
       "  }\n",
       "  th, td {\n",
       "    padding: 5px;\n",
       "  }\n",
       "  th {\n",
       "    text-align: left;\n",
       "  }\n",
       "</style><div class='table-result-container'><table class='table-result'><thead style='background-color: white'><tr><th>trip_id</th><th>rideable_type</th><th>start_at</th><th>ended_at</th><th>start_station_id</th><th>end_station_id</th><th>rider_id</th></tr></thead><tbody><tr><td>7E1E50AC37E2DAD3</td><td>classic_bike</td><td>2021-08-14T14:01:36Z</td><td>2021-08-14T14:34:49Z</td><td>TA1309000007</td><td>13089</td><td>2644</td></tr><tr><td>ADFF32195521E952</td><td>classic_bike</td><td>2021-08-29T16:16:36Z</td><td>2021-08-29T16:24:43Z</td><td>13288</td><td>TA1308000031</td><td>37747</td></tr><tr><td>7C59843DB8D13CC7</td><td>electric_bike</td><td>2021-08-27T11:06:34Z</td><td>2021-08-27T11:12:52Z</td><td>TA1307000062</td><td>TA1305000020</td><td>63224</td></tr><tr><td>5B788004F8A5204C</td><td>classic_bike</td><td>2021-08-27T07:35:33Z</td><td>2021-08-27T07:59:35Z</td><td>13353</td><td>13242</td><td>45050</td></tr><tr><td>078629DD14B634AE</td><td>classic_bike</td><td>2021-08-08T15:00:30Z</td><td>2021-08-08T15:22:57Z</td><td>13353</td><td>13242</td><td>33762</td></tr><tr><td>5E98DA99CB0B52E4</td><td>classic_bike</td><td>2021-08-15T18:01:33Z</td><td>2021-08-15T18:26:52Z</td><td>13353</td><td>13242</td><td>33902</td></tr><tr><td>6A3F6243C9164889</td><td>classic_bike</td><td>2021-08-14T02:22:42Z</td><td>2021-08-14T02:26:10Z</td><td>13033</td><td>TA1305000020</td><td>47737</td></tr><tr><td>F034B9F0C7194317</td><td>classic_bike</td><td>2021-08-20T14:28:33Z</td><td>2021-08-20T14:55:42Z</td><td>TA1307000130</td><td>13089</td><td>28123</td></tr><tr><td>74EE09157161558A</td><td>classic_bike</td><td>2021-08-21T18:17:28Z</td><td>2021-08-21T19:03:19Z</td><td>15578</td><td>TA1308000031</td><td>60078</td></tr><tr><td>7EF8ED3865996053</td><td>electric_bike</td><td>2021-08-16T14:54:06Z</td><td>2021-08-16T15:09:13Z</td><td>13109</td><td>519</td><td>34360</td></tr></tbody></table></div>"
      ]
     },
     "metadata": {
      "application/vnd.databricks.v1+output": {
       "addedWidgets": {},
       "aggData": [],
       "aggError": "",
       "aggOverflow": false,
       "aggSchema": [],
       "aggSeriesLimitReached": false,
       "aggType": "",
       "arguments": {},
       "columnCustomDisplayInfos": {},
       "data": [
        [
         "7E1E50AC37E2DAD3",
         "classic_bike",
         "2021-08-14T14:01:36Z",
         "2021-08-14T14:34:49Z",
         "TA1309000007",
         "13089",
         2644
        ],
        [
         "ADFF32195521E952",
         "classic_bike",
         "2021-08-29T16:16:36Z",
         "2021-08-29T16:24:43Z",
         "13288",
         "TA1308000031",
         37747
        ],
        [
         "7C59843DB8D13CC7",
         "electric_bike",
         "2021-08-27T11:06:34Z",
         "2021-08-27T11:12:52Z",
         "TA1307000062",
         "TA1305000020",
         63224
        ],
        [
         "5B788004F8A5204C",
         "classic_bike",
         "2021-08-27T07:35:33Z",
         "2021-08-27T07:59:35Z",
         "13353",
         "13242",
         45050
        ],
        [
         "078629DD14B634AE",
         "classic_bike",
         "2021-08-08T15:00:30Z",
         "2021-08-08T15:22:57Z",
         "13353",
         "13242",
         33762
        ],
        [
         "5E98DA99CB0B52E4",
         "classic_bike",
         "2021-08-15T18:01:33Z",
         "2021-08-15T18:26:52Z",
         "13353",
         "13242",
         33902
        ],
        [
         "6A3F6243C9164889",
         "classic_bike",
         "2021-08-14T02:22:42Z",
         "2021-08-14T02:26:10Z",
         "13033",
         "TA1305000020",
         47737
        ],
        [
         "F034B9F0C7194317",
         "classic_bike",
         "2021-08-20T14:28:33Z",
         "2021-08-20T14:55:42Z",
         "TA1307000130",
         "13089",
         28123
        ],
        [
         "74EE09157161558A",
         "classic_bike",
         "2021-08-21T18:17:28Z",
         "2021-08-21T19:03:19Z",
         "15578",
         "TA1308000031",
         60078
        ],
        [
         "7EF8ED3865996053",
         "electric_bike",
         "2021-08-16T14:54:06Z",
         "2021-08-16T15:09:13Z",
         "13109",
         "519",
         34360
        ]
       ],
       "datasetInfos": [],
       "dbfsResultPath": null,
       "isJsonSchema": true,
       "metadata": {},
       "overflow": false,
       "plotOptions": {
        "customPlotOptions": {},
        "displayType": "table",
        "pivotAggregation": null,
        "pivotColumns": null,
        "xColumns": null,
        "yColumns": null
       },
       "removedWidgets": [],
       "schema": [
        {
         "metadata": "{}",
         "name": "trip_id",
         "type": "\"string\""
        },
        {
         "metadata": "{}",
         "name": "rideable_type",
         "type": "\"string\""
        },
        {
         "metadata": "{}",
         "name": "start_at",
         "type": "\"timestamp\""
        },
        {
         "metadata": "{}",
         "name": "ended_at",
         "type": "\"timestamp\""
        },
        {
         "metadata": "{}",
         "name": "start_station_id",
         "type": "\"string\""
        },
        {
         "metadata": "{}",
         "name": "end_station_id",
         "type": "\"string\""
        },
        {
         "metadata": "{}",
         "name": "rider_id",
         "type": "\"integer\""
        }
       ],
       "type": "table"
      }
     },
     "output_type": "display_data"
    }
   ],
   "source": [
    "display(trips.limit(10))"
   ]
  },
  {
   "cell_type": "code",
   "execution_count": 0,
   "metadata": {
    "application/vnd.databricks.v1+cell": {
     "cellMetadata": {
      "byteLimit": 2048000,
      "rowLimit": 10000
     },
     "inputWidgets": {},
     "nuid": "2ccfd2d0-1c01-432c-a935-066d86f2a838",
     "showTitle": false,
     "title": ""
    }
   },
   "outputs": [
    {
     "output_type": "display_data",
     "data": {
      "text/html": [
       "<style scoped>\n",
       "  .table-result-container {\n",
       "    max-height: 300px;\n",
       "    overflow: auto;\n",
       "  }\n",
       "  table, th, td {\n",
       "    border: 1px solid black;\n",
       "    border-collapse: collapse;\n",
       "  }\n",
       "  th, td {\n",
       "    padding: 5px;\n",
       "  }\n",
       "  th {\n",
       "    text-align: left;\n",
       "  }\n",
       "</style><div class='table-result-container'><table class='table-result'><thead style='background-color: white'><tr><th>trip_id</th><th>rider_id</th><th>rideable_type</th><th>start_station_id</th><th>end_station_id</th><th>start_time_id</th><th>end_time_id</th><th>duration</th><th>rider_age</th></tr></thead><tbody><tr><td>7E1E50AC37E2DAD3</td><td>2644</td><td>classic_bike</td><td>TA1309000007</td><td>13089</td><td>2021-08-14T14:01:36Z</td><td>2021-08-14T14:34:49Z</td><td>33.0</td><td>16081.0</td></tr><tr><td>ADFF32195521E952</td><td>37747</td><td>classic_bike</td><td>13288</td><td>TA1308000031</td><td>2021-08-29T16:16:36Z</td><td>2021-08-29T16:24:43Z</td><td>8.0</td><td>7306.0</td></tr><tr><td>7C59843DB8D13CC7</td><td>63224</td><td>electric_bike</td><td>TA1307000062</td><td>TA1305000020</td><td>2021-08-27T11:06:34Z</td><td>2021-08-27T11:12:52Z</td><td>6.0</td><td>12635.0</td></tr><tr><td>5B788004F8A5204C</td><td>45050</td><td>classic_bike</td><td>13353</td><td>13242</td><td>2021-08-27T07:35:33Z</td><td>2021-08-27T07:59:35Z</td><td>24.0</td><td>10321.0</td></tr><tr><td>078629DD14B634AE</td><td>33762</td><td>classic_bike</td><td>13353</td><td>13242</td><td>2021-08-08T15:00:30Z</td><td>2021-08-08T15:22:57Z</td><td>22.0</td><td>16062.0</td></tr><tr><td>5E98DA99CB0B52E4</td><td>33902</td><td>classic_bike</td><td>13353</td><td>13242</td><td>2021-08-15T18:01:33Z</td><td>2021-08-15T18:26:52Z</td><td>25.0</td><td>13272.0</td></tr><tr><td>6A3F6243C9164889</td><td>47737</td><td>classic_bike</td><td>13033</td><td>TA1305000020</td><td>2021-08-14T02:22:42Z</td><td>2021-08-14T02:26:10Z</td><td>3.0</td><td>8867.0</td></tr><tr><td>F034B9F0C7194317</td><td>28123</td><td>classic_bike</td><td>TA1307000130</td><td>13089</td><td>2021-08-20T14:28:33Z</td><td>2021-08-20T14:55:42Z</td><td>27.0</td><td>13814.0</td></tr><tr><td>74EE09157161558A</td><td>60078</td><td>classic_bike</td><td>15578</td><td>TA1308000031</td><td>2021-08-21T18:17:28Z</td><td>2021-08-21T19:03:19Z</td><td>46.0</td><td>10274.0</td></tr><tr><td>7EF8ED3865996053</td><td>34360</td><td>electric_bike</td><td>13109</td><td>519</td><td>2021-08-16T14:54:06Z</td><td>2021-08-16T15:09:13Z</td><td>15.0</td><td>18105.0</td></tr></tbody></table></div>"
      ]
     },
     "metadata": {
      "application/vnd.databricks.v1+output": {
       "addedWidgets": {},
       "aggData": [],
       "aggError": "",
       "aggOverflow": false,
       "aggSchema": [],
       "aggSeriesLimitReached": false,
       "aggType": "",
       "arguments": {},
       "columnCustomDisplayInfos": {},
       "data": [
        [
         "7E1E50AC37E2DAD3",
         2644,
         "classic_bike",
         "TA1309000007",
         "13089",
         "2021-08-14T14:01:36Z",
         "2021-08-14T14:34:49Z",
         33.0,
         16081.0
        ],
        [
         "ADFF32195521E952",
         37747,
         "classic_bike",
         "13288",
         "TA1308000031",
         "2021-08-29T16:16:36Z",
         "2021-08-29T16:24:43Z",
         8.0,
         7306.0
        ],
        [
         "7C59843DB8D13CC7",
         63224,
         "electric_bike",
         "TA1307000062",
         "TA1305000020",
         "2021-08-27T11:06:34Z",
         "2021-08-27T11:12:52Z",
         6.0,
         12635.0
        ],
        [
         "5B788004F8A5204C",
         45050,
         "classic_bike",
         "13353",
         "13242",
         "2021-08-27T07:35:33Z",
         "2021-08-27T07:59:35Z",
         24.0,
         10321.0
        ],
        [
         "078629DD14B634AE",
         33762,
         "classic_bike",
         "13353",
         "13242",
         "2021-08-08T15:00:30Z",
         "2021-08-08T15:22:57Z",
         22.0,
         16062.0
        ],
        [
         "5E98DA99CB0B52E4",
         33902,
         "classic_bike",
         "13353",
         "13242",
         "2021-08-15T18:01:33Z",
         "2021-08-15T18:26:52Z",
         25.0,
         13272.0
        ],
        [
         "6A3F6243C9164889",
         47737,
         "classic_bike",
         "13033",
         "TA1305000020",
         "2021-08-14T02:22:42Z",
         "2021-08-14T02:26:10Z",
         3.0,
         8867.0
        ],
        [
         "F034B9F0C7194317",
         28123,
         "classic_bike",
         "TA1307000130",
         "13089",
         "2021-08-20T14:28:33Z",
         "2021-08-20T14:55:42Z",
         27.0,
         13814.0
        ],
        [
         "74EE09157161558A",
         60078,
         "classic_bike",
         "15578",
         "TA1308000031",
         "2021-08-21T18:17:28Z",
         "2021-08-21T19:03:19Z",
         46.0,
         10274.0
        ],
        [
         "7EF8ED3865996053",
         34360,
         "electric_bike",
         "13109",
         "519",
         "2021-08-16T14:54:06Z",
         "2021-08-16T15:09:13Z",
         15.0,
         18105.0
        ]
       ],
       "datasetInfos": [],
       "dbfsResultPath": null,
       "isJsonSchema": true,
       "metadata": {},
       "overflow": false,
       "plotOptions": {
        "customPlotOptions": {},
        "displayType": "table",
        "pivotAggregation": null,
        "pivotColumns": null,
        "xColumns": null,
        "yColumns": null
       },
       "removedWidgets": [],
       "schema": [
        {
         "metadata": "{}",
         "name": "trip_id",
         "type": "\"string\""
        },
        {
         "metadata": "{}",
         "name": "rider_id",
         "type": "\"integer\""
        },
        {
         "metadata": "{}",
         "name": "rideable_type",
         "type": "\"string\""
        },
        {
         "metadata": "{}",
         "name": "start_station_id",
         "type": "\"string\""
        },
        {
         "metadata": "{}",
         "name": "end_station_id",
         "type": "\"string\""
        },
        {
         "metadata": "{}",
         "name": "start_time_id",
         "type": "\"timestamp\""
        },
        {
         "metadata": "{}",
         "name": "end_time_id",
         "type": "\"timestamp\""
        },
        {
         "metadata": "{}",
         "name": "duration",
         "type": "\"double\""
        },
        {
         "metadata": "{}",
         "name": "rider_age",
         "type": "\"double\""
        }
       ],
       "type": "table"
      }
     },
     "output_type": "display_data"
    }
   ],
   "source": [
    "fact_trips = trips.alias(\"tbl1\").join(riders.alias(\"tbl2\"), col(\"tbl1.rider_id\") == col(\"tbl2.rider_id\"), \"left\") \\\n",
    "            .withColumn('duration', round((unix_timestamp(\"ended_at\") - unix_timestamp('start_at'))/60)) \\\n",
    "            .withColumn('rider_age', round((unix_timestamp(\"account_start_date\") - unix_timestamp('birthday'))/3600/24)) \\\n",
    "            .withColumnRenamed('start_at', 'start_time_id') \\\n",
    "            .withColumnRenamed('ended_at', 'end_time_id') \\\n",
    "            .select(\"trip_id\", col(\"tbl1.rider_id\"), \"rideable_type\", \"start_station_id\", \"end_station_id\", \"start_time_id\", \"end_time_id\", \"duration\", \"rider_age\")\n",
    "            \n",
    "display(fact_trips.limit(10))"
   ]
  },
  {
   "cell_type": "code",
   "execution_count": 0,
   "metadata": {
    "application/vnd.databricks.v1+cell": {
     "cellMetadata": {
      "byteLimit": 2048000,
      "rowLimit": 10000
     },
     "inputWidgets": {},
     "nuid": "f94b4364-55ca-44bb-8ae1-87e466c5c065",
     "showTitle": false,
     "title": ""
    }
   },
   "outputs": [],
   "source": [
    "# Write data to fact_trip\n",
    "spark.sql(\"drop table if exists default.fact_trip\")\n",
    "fact_trips.write.format(\"delta\").mode(\"overwrite\").saveAsTable(\"default.fact_trip\")"
   ]
  },
  {
   "cell_type": "markdown",
   "metadata": {
    "application/vnd.databricks.v1+cell": {
     "cellMetadata": {},
     "inputWidgets": {},
     "nuid": "462ea019-5ff2-4109-9c3f-6448c624594a",
     "showTitle": false,
     "title": ""
    }
   },
   "source": [
    "<h3>Load </h3>"
   ]
  },
  {
   "cell_type": "code",
   "execution_count": 0,
   "metadata": {
    "application/vnd.databricks.v1+cell": {
     "cellMetadata": {
      "byteLimit": 2048000,
      "rowLimit": 10000
     },
     "inputWidgets": {},
     "nuid": "0cadf017-cc69-4887-922b-bb8665418d7b",
     "showTitle": false,
     "title": ""
    }
   },
   "outputs": [],
   "source": [
    "from pyspark.sql import functions as f\n",
    "from pyspark.sql.types import StringType\n",
    "# Get min date from trips\n",
    "min_date = trips.selectExpr('MIN(start_at) AS started_at').first().asDict()['started_at']\n",
    "# Add date range as max start_at from trip plus 5 years\n",
    "max_date = trips.selectExpr('DATEADD(year, 5, MAX(start_at)) AS started_at').first().asDict()['started_at']\n",
    "expression = f\"sequence(to_date('{min_date}'), to_date('{max_date}'), interval 1 day)\"\n",
    "dim_time = spark.createDataFrame([(1,)], [\"time_id\"])\n",
    "\n",
    "dim_time = dim_time.withColumn(\"dateinit\", f.explode(f.expr(expression)))\n",
    "dim_time = dim_time.withColumn(\"date\", f.to_timestamp(dim_time.dateinit, \"yyyy-MM-dd\"))\n",
    "\n",
    "dim_time = dim_time \\\n",
    "            .withColumn(\"day_of_week\", f.dayofweek(dim_time.date)) \\\n",
    "            .withColumn(\"day_of_month\", f.dayofmonth(dim_time.date)) \\\n",
    "            .withColumn(\"week_of_year\", f.weekofyear(dim_time.date)) \\\n",
    "            .withColumn(\"year\", f.year(dim_time.date)) \\\n",
    "            .withColumn(\"quarter\", f.quarter(dim_time.date)) \\\n",
    "            .withColumn(\"month\", f.month(dim_time.date)) \\\n",
    "            .withColumn(\"time_id\", dim_time.date.cast(StringType())) \\\n",
    "            .drop(f.col(\"dateinit\"))"
   ]
  },
  {
   "cell_type": "code",
   "execution_count": 0,
   "metadata": {
    "application/vnd.databricks.v1+cell": {
     "cellMetadata": {
      "byteLimit": 2048000,
      "rowLimit": 10000
     },
     "inputWidgets": {},
     "nuid": "271e424a-376a-45a2-8884-f1f373dc7b84",
     "showTitle": false,
     "title": ""
    }
   },
   "outputs": [
    {
     "output_type": "stream",
     "name": "stdout",
     "output_type": "stream",
     "text": [
      "+-------------------+\n|          min(date)|\n+-------------------+\n|2021-02-01 00:00:00|\n+-------------------+\n\n+-------------------+\n|          max(date)|\n+-------------------+\n|2027-01-31 00:00:00|\n+-------------------+\n\n"
     ]
    }
   ],
   "source": [
    "display(dim_time.selectExpr('MIN(date)').show())\n",
    "display(dim_time.selectExpr('MAX(date)').show())"
   ]
  },
  {
   "cell_type": "code",
   "execution_count": 0,
   "metadata": {
    "application/vnd.databricks.v1+cell": {
     "cellMetadata": {
      "byteLimit": 2048000,
      "rowLimit": 10000
     },
     "inputWidgets": {},
     "nuid": "5164bf96-6cf8-442c-8ee4-32f9936317cd",
     "showTitle": false,
     "title": ""
    }
   },
   "outputs": [],
   "source": [
    "# Write data to dim_time\n",
    "spark.sql(\"drop table if exists default.dim_time\")\n",
    "dim_time.write.format(\"delta\").mode(\"overwrite\").saveAsTable(\"default.dim_time\")"
   ]
  }
 ],
 "metadata": {
  "application/vnd.databricks.v1+notebook": {
   "dashboards": [],
   "environmentMetadata": null,
   "language": "python",
   "notebookMetadata": {
    "mostRecentlyExecutedCommandWithImplicitDF": {
     "commandId": -1,
     "dataframes": [
      "_sqldf"
     ]
    },
    "pythonIndentUnit": 4
   },
   "notebookName": "Transformaion_data",
   "widgets": {}
  }
 },
 "nbformat": 4,
 "nbformat_minor": 0
}
